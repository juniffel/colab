{
  "nbformat": 4,
  "nbformat_minor": 0,
  "metadata": {
    "colab": {
      "name": "commit_test.ipynb",
      "provenance": [],
      "mount_file_id": "1PsRdPv0mv9vuDVKoKpCGr18Ix8l0gcwm",
      "authorship_tag": "ABX9TyOlT7WA14dCJxCyCULU7fkS",
      "include_colab_link": true
    },
    "kernelspec": {
      "name": "python3",
      "display_name": "Python 3"
    },
    "language_info": {
      "name": "python"
    }
  },
  "cells": [
    {
      "cell_type": "markdown",
      "metadata": {
        "id": "view-in-github",
        "colab_type": "text"
      },
      "source": [
        "<a href=\"https://colab.research.google.com/github/juniffel/colab/blob/main/commit_test.ipynb\" target=\"_parent\"><img src=\"https://colab.research.google.com/assets/colab-badge.svg\" alt=\"Open In Colab\"/></a>"
      ]
    },
    {
      "cell_type": "markdown",
      "source": [
        ""
      ],
      "metadata": {
        "id": "ubQlhDI2bL5o"
      }
    },
    {
      "cell_type": "markdown",
      "source": [
        "# 코드테스트"
      ],
      "metadata": {
        "id": "eK5Bl6VFbPbI"
      }
    },
    {
      "cell_type": "code",
      "source": [
        ""
      ],
      "metadata": {
        "id": "8jDAZRiubTr1"
      },
      "execution_count": null,
      "outputs": []
    }
  ]
}